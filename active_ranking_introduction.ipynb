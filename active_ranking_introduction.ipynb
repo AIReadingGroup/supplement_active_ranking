{
 "cells": [
  {
   "cell_type": "markdown",
   "metadata": {},
   "source": [
    "# Active Ranking from Pairwise Comparisons and when Parametric Assumptions Don’t Help\n",
    "\n",
    "We consider sequential or active ranking of a set of n items based on noisy pairwise compar- isons. Items are ranked according to the probability that a given item beats a randomly chosen item, and ranking refers to partitioning the items into sets of pre-specified sizes according to their scores. This notion of ranking includes as special cases the identification of the top-$k$ items and the total ordering of the items. For simplicity, let us consider the top-$k$ identification problem.\n",
    "\n",
    "We consider a collection of $n$ items, and our data consists\n",
    "of outcomes of comparisons between pairs of items in this collection\n",
    "that are collected in a sequential fashion, also known as the active\n",
    "setting. We assume that the outcomes of comparisons are\n",
    "stochastic---that is, item $i$ beats item $j$ with an unknown\n",
    "probability $M_{ij} \\in (0,1)$. The outcomes of pairwise\n",
    "comparisons are furthermore assumed to be statistically mutually\n",
    "independent. We define the ordering of the items in terms of their\n",
    "(unknown) scores, where the score $\\tau_i$ of item $i$ is defined as\n",
    "the probability that item $i$ beats an item chosen uniformly at random\n",
    "from all other items:\n",
    "$$\n",
    "\\tau_i := \\frac{1}{n - 1} \\sum_{j\\neq i} M_{ij}.\n",
    "$$\n",
    "Assuming that the scores are all distinct, they define a unique ranking of the $n$ items. Identifying the top-$k$ items amounts to identify two disjoint subsets $\\hat S_1, \\hat S_2 \\subset \\{1,\\ldots,n\\}$ such that all items in $\\hat S_1$ have a larger score than the items in the set $\\hat S_2$. \n",
    "\n",
    "An active ranking algorithm acts on a pairwise comparison model $M$. The goal is to identify the top-$k$ items from active comparisons.  At each time\n",
    "instant, the algorithm can compare two arbitrary items, and the choice\n",
    "of which items to compare may be based on the outcomes of previous\n",
    "comparisons. As a result of comparing two items $i$ and $j$, the\n",
    "algorithm receives an independent draw of a binary random variable\n",
    "with success probability $M_{ij}$ in response.  After termination\n",
    "dictated by an associated stopping rule, the algorithm returns a\n",
    "ranking $\\hat S_1, \\hat S_2$."
   ]
  },
  {
   "cell_type": "markdown",
   "metadata": {},
   "source": [
    "## The model\n",
    "We start with defining a class for representing a pairwise comparision model."
   ]
  },
  {
   "cell_type": "code",
   "execution_count": 105,
   "metadata": {},
   "outputs": [],
   "source": [
    "from numpy import *\n",
    "import matplotlib.pyplot as plt\n",
    "%matplotlib inline\n",
    "\n",
    "class pairwise:\n",
    "    def __init__(self,n):\n",
    "        self.ctr = 0 # counts how many comparisons have been queried from the model\n",
    "        self.n = n \n",
    "\n",
    "    def sortP(self): # sort the comparison matrix according to scores\n",
    "        scores = self.scores()\n",
    "        pi = argsort(-scores)\n",
    "        self.P = self.P[:,pi]\n",
    "        self.P = self.P[pi,:]\n",
    "    \n",
    "    def generate_deterministic_BTL(self,w): # generates a Bradley-Terry-Luce model\n",
    "        self.w = w\n",
    "        self.P = zeros((self.n,self.n))\n",
    "        for i in range(self.n):\n",
    "            for j in range(i,self.n):\n",
    "                self.P[i,j] = 1/( 1 + exp( w[j] - w[i] ) )\n",
    "                self.P[j,i] = 1 - self.P[i,j]\n",
    "        self.sortP()\n",
    "\n",
    "    def compare(self,i,j): # draw a comparision from the model\n",
    "        if i == j:\n",
    "            print(\"does not make sense\")\n",
    "        self.ctr += 1\n",
    "        if random.rand() < self.P[i,j]:\n",
    "            return 1 # i beats j\n",
    "        else:\n",
    "            return 0 # j beats i\n",
    "\n",
    "    def scores(self):\n",
    "        P = array(self.P)\n",
    "        for i in range(len(P)):\n",
    "            P[i,i] = 0\n",
    "        return sum(P,axis=1)/(self.n-1)\n",
    "    \n",
    "    def topk_complexity(self,k=1):\n",
    "        sc = self.scores();\n",
    "        lower = sum([ 1/(sc[k-1]-sc[i])**2 for i in range(k,self.n)])\n",
    "        upper = sum([ 1/(sc[i]-sc[k])**2 for i in range(0,k)])\n",
    "        return lower + upper"
   ]
  },
  {
   "cell_type": "markdown",
   "metadata": {},
   "source": [
    "Let us next generate a small BTL model, and test it."
   ]
  },
  {
   "cell_type": "code",
   "execution_count": 115,
   "metadata": {},
   "outputs": [
    {
     "name": "stdout",
     "output_type": "stream",
     "text": [
      "The pairwise comparison probabilities are:\n",
      " [[ 0.5         0.549834    0.59868766  0.64565631  0.68997448]\n",
      " [ 0.450166    0.5         0.549834    0.59868766  0.64565631]\n",
      " [ 0.40131234  0.450166    0.5         0.549834    0.59868766]\n",
      " [ 0.35434369  0.40131234  0.450166    0.5         0.549834  ]\n",
      " [ 0.31002552  0.35434369  0.40131234  0.450166    0.5       ]] \n",
      "\n",
      "The scores of the items are:\n",
      " [ 0.62103811  0.56108599  0.5         0.43891401  0.37896189] \n",
      "\n",
      "Comparing 1 to 2 gives: 2 wins\n",
      "Comparing 1 to 2 gives: 1 wins\n",
      "Comparing 1 to 2 gives: 1 wins\n",
      "Comparing 1 to 2 gives: 2 wins\n",
      "Comparing 1 to 2 gives: 2 wins\n",
      "5  queries have been made\n"
     ]
    }
   ],
   "source": [
    "n = 5\n",
    "delta = 0.1\n",
    "pmodel = pairwise(n)\n",
    "pmodel.generate_deterministic_BTL([ i/float(n) for i in range(n) ])\n",
    "\n",
    "print(\"The pairwise comparison probabilities are:\\n\", pmodel.P, \"\\n\")\n",
    "\n",
    "print(\"The scores of the items are:\\n\", pmodel.scores(),\"\\n\")\n",
    "\n",
    "# make a few comparisions\n",
    "for i in range(5): \n",
    "    print(\"Comparing 1 to 2 gives:\", '1 wins' if pmodel.compare(1,2) else '2 wins')\n",
    "    \n",
    "print(pmodel.ctr, \" queries have been made\")"
   ]
  },
  {
   "cell_type": "markdown",
   "metadata": {},
   "source": [
    "## The ranking algorithm\n",
    "Let us next implement the randing algorithm. The algorithm in our paper uses an elimination strategy - below we implement a variant of our algorithm that is based on the LUCB (lower upper confidence bound) strategy from the bandit literature. Both algorithms share the same guarantees on the sample complexity."
   ]
  },
  {
   "cell_type": "code",
   "execution_count": 116,
   "metadata": {},
   "outputs": [],
   "source": [
    "class LUCB_ranking:\n",
    "    def __init__(self,pairwise,k):\n",
    "        self.k = k\n",
    "        self.pairwise = pairwise # instance of pairwise\n",
    "        self.pairwise.ctr = 0 # number of random comparisons made\n",
    "\n",
    "    def random_cmp(self,i): # compare i to randomly choosen other item\n",
    "        j = random.choice(range(self.pairwise.n-1))\n",
    "        if j >= i:\n",
    "            j += 1\n",
    "        return float( self.pairwise.compare(i,j) )\n",
    "\n",
    "    def alpha(self,Ti): # confidence interval\n",
    "        n = self.pairwise.n\n",
    "        beta = log(n/self.delta) + 0.75*log(log(n/self.delta)) + 1.5*log(1+log(Ti/2))\n",
    "        return sqrt( 3 / (2*Ti) ) \n",
    "\n",
    "    def rank(self,delta=0.1,numit = 6000000):\n",
    "        self.delta = delta\n",
    "        S = [] # list with entries ( i, T_i, scorehat_i, scorehat_i - alpha_i, scorehat_i + alpha_i, alpha_i)\n",
    "        # compare each item once to initialize\n",
    "        for i in range(self.pairwise.n):\n",
    "            scorehat = self.random_cmp(i)\n",
    "            S.append( ( i, 1, scorehat, scorehat-self.alpha(1), scorehat+self.alpha(1), self.alpha(1) ) )\n",
    "            \n",
    "        for iit in range(numit):\n",
    "            # sort descending by score ('entry' has fields (i, T_i, scorehat_i,...)\n",
    "            S = sorted(S , key=lambda entry: entry[2],reverse=True)\n",
    "            # min scorehat_i - alpha_i; min over (1),...,(k)\n",
    "            d1low = min( S[:self.k] , key=lambda entry: entry[3] )\n",
    "            # max scorehat_i + alpha_i; max over (k+1),...,(n)\n",
    "            d2up = max( S[self.k:] , key=lambda entry: entry[4] )\n",
    "\n",
    "            if d1low[3] > d2up[4]: # termination condition\n",
    "                break # terminate\n",
    "\n",
    "            for it in [d1low,d2up]: # items to sample in next round\n",
    "                Ti = it[1] + 1\n",
    "                shat = 1.0/Ti*( (Ti-1)*it[2] + self.random_cmp( it[0] ) )\n",
    "                alphai = self.alpha(Ti)\n",
    "                S[S.index(it)] = ( it[0], Ti, shat, shat - alphai, shat + alphai, alphai )\n",
    "        self.S = S\n",
    "        estimated_ranking = [s[0] for s in S]\n",
    "        self.ranking = [ estimated_ranking[:self.k], estimated_ranking[self.k:]  ]\n",
    "\n",
    "    def plot_scores(self): # plot \n",
    "        n = len(self.S)\n",
    "        scorehat = [self.S[i][2] for i in range(n)]\n",
    "        upperest = [self.S[i][3] for i in range(n)]\n",
    "        lowerest = [self.S[i][4] for i in range(n)]\n",
    "        plt.plot(range(n),scorehat, 'rx',range(n),upperest, 'bx',range(n),lowerest, 'yx' )\n",
    "        plt.show()\n",
    "        \n",
    "    def evaluate_perfect_recovery(self): # did it suceed?\n",
    "        return set(self.ranking[0]) == set([i for i in range(self.k)])\n"
   ]
  },
  {
   "cell_type": "markdown",
   "metadata": {},
   "source": [
    "Let's run the algorithm on our example, for $k=2$:"
   ]
  },
  {
   "cell_type": "code",
   "execution_count": 117,
   "metadata": {},
   "outputs": [
    {
     "name": "stdout",
     "output_type": "stream",
     "text": [
      "The top-k items are:  [0, 1]\n",
      "The algorithm did succeed :)\n",
      "It required  1939  many comparisons.\n",
      "\n",
      "Confidence intervals at termination (red is the estimate, yellow and blue are the lower and upper confidence bounds):\n"
     ]
    },
    {
     "data": {
      "image/png": "[encoded data removed]",
      "text/plain": [
       "<matplotlib.figure.Figure at 0x109e6ac88>"
      ]
     },
     "metadata": {},
     "output_type": "display_data"
    }
   ],
   "source": [
    "k = 2\n",
    "delta = 0.1\n",
    "alg = LUCB_ranking(pmodel,k)\n",
    "alg.rank(0.1)\n",
    "print(\"The top-k items are: \", alg.ranking[0])\n",
    "print(\"The algorithm did\", \"succeed :)\" if alg.evaluate_perfect_recovery() else \"not succeed :(\")\n",
    "print(\"It required \", alg.pairwise.ctr, \" many comparisons.\\n\")\n",
    "print(\"Confidence intervals at termination (red is the estimate, yellow and blue are the lower and upper confidence bounds):\")\n",
    "alg.plot_scores()"
   ]
  },
  {
   "cell_type": "markdown",
   "metadata": {},
   "source": [
    "# The theory\n",
    "\n",
    "Accordign to our theory, the sample complexity for scores \n",
    "$\\tau_1 > \\tau_2 > \\ldots \\tau_n$ \n",
    "is (up to log-factors) given by:\n",
    "$$\n",
    "H(M) = \\sum_{i=1}^k \\frac{1}{(\\tau_i - \\tau_{k+1})^2}\n",
    "+\n",
    "\\sum_{i=k+1}^{n} \\frac{1}{(\\tau_k - \\tau_{i})^2}.\n",
    "$$\n",
    "Let's verify this with a simple experiment. We generate models with different parameters, and see whether the ratio of the empirical sample complexity over $H(M)$ is approximately constant:"
   ]
  },
  {
   "cell_type": "code",
   "execution_count": 137,
   "metadata": {},
   "outputs": [
    {
     "name": "stdout",
     "output_type": "stream",
     "text": [
      "H(M):  364.060505465\n",
      "empirical sample complexity / H(M): 4.50254827258 \n",
      "\n",
      "H(M):  671.914678452\n",
      "empirical sample complexity / H(M): 4.73512501219 \n",
      "\n",
      "H(M):  1076.66591004\n",
      "empirical sample complexity / H(M): 4.70354819707 \n",
      "\n",
      "H(M):  1578.91054253\n",
      "empirical sample complexity / H(M): 4.74646903555 \n",
      "\n",
      "H(M):  2179.01141861\n",
      "empirical sample complexity / H(M): 4.03006148797 \n",
      "\n",
      "H(M):  2877.20736974\n",
      "empirical sample complexity / H(M): 4.2545768959 \n",
      "\n"
     ]
    }
   ],
   "source": [
    "numit = 40\n",
    "k = 1\n",
    "delta = 0.1\n",
    "\n",
    "for n in range(4,10):\n",
    "    pmodel = pairwise(n)\n",
    "    w = [ i/float(n) for i in range(n) ] #w = random.rand(n)+0.1\n",
    "    pmodel.generate_deterministic_BTL(w)\n",
    "    print(\"H(M): \", pmodel.topk_complexity(k))\n",
    "    alg = LUCB_ranking(pmodel,k)\n",
    "    su = 0\n",
    "    for i in range(numit):\n",
    "        alg.pairwise.ctr = 0\n",
    "        alg.rank(0.1)\n",
    "        su += alg.pairwise.ctr / alg.pairwise.topk_complexity() / numit \n",
    "    print(\"empirical sample complexity / H(M):\", su, \"\\n\")"
   ]
  },
  {
   "cell_type": "code",
   "execution_count": null,
   "metadata": {
    "collapsed": true
   },
   "outputs": [],
   "source": []
  },
  {
   "cell_type": "code",
   "execution_count": null,
   "metadata": {
    "collapsed": true
   },
   "outputs": [],
   "source": []
  },
  {
   "cell_type": "code",
   "execution_count": null,
   "metadata": {
    "collapsed": true
   },
   "outputs": [],
   "source": []
  }
 ],
 "metadata": {
  "kernelspec": {
   "display_name": "Python 3",
   "language": "python",
   "name": "python3"
  },
  "language_info": {
   "codemirror_mode": {
    "name": "ipython",
    "version": 3
   },
   "file_extension": ".py",
   "mimetype": "text/x-python",
   "name": "python",
   "nbconvert_exporter": "python",
   "pygments_lexer": "ipython3",
   "version": "3.6.1"
  }
 },
 "nbformat": 4,
 "nbformat_minor": 2
}
